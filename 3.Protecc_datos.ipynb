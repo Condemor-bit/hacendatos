{
 "cells": [
  {
   "cell_type": "code",
   "execution_count": null,
   "id": "63ed37a4-1d8c-430b-8738-15a62ba264fe",
   "metadata": {},
   "outputs": [],
   "source": [
    "import pandas as pd\n",
    "from tqdm import tqdm\n",
    "from transformers import AutoTokenizer, AutoModelForSeq2SeqLM, BitsAndBytesConfig\n",
    "import torch\n",
    "from huggingface_hub import login\n",
    "import warnings\n",
    "warnings.filterwarnings(\"ignore\", category=FutureWarning)\n",
    "\n",
    "\n",
    "with open(\"HF_TOKEN.txt\", \"r\") as f:\n",
    "    token = f.read().strip()\n",
    "\n",
    "login(token=token)"
   ]
  },
  {
   "cell_type": "code",
   "execution_count": null,
   "id": "53579a02-d928-4f64-a600-ff0b727abf3e",
   "metadata": {},
   "outputs": [],
   "source": [
    "#Load data\n",
    "df = pd.read_parquet('./data/Silver/Cleaned_data.parquet')\n",
    "\n",
    "\n",
    "#df = df.sample(n=1000).reset_index()\n",
    "# df = pd.read_parquet('./data/Silver/data_for_trainning_encoder.parquet')\n",
    "df"
   ]
  },
  {
   "cell_type": "code",
   "execution_count": null,
   "id": "438afb31-8b58-4061-aaed-c75e8d16d013",
   "metadata": {},
   "outputs": [],
   "source": [
    "model_name = \"google/t5gemma-9b-9b-ul2-it\"\n",
    "\n",
    "## Load the model T5-gemma\n",
    "# Configuración de la cuantificación de 4 bits\n",
    "bnb_config = BitsAndBytesConfig(\n",
    "    load_in_4bit=True,                 \n",
    "    bnb_4bit_quant_type=\"nf4\",        \n",
    "    bnb_4bit_compute_dtype=torch.bfloat16, \n",
    "    bnb_4bit_use_double_quant=True,   \n",
    ")\n",
    "\n",
    "\n",
    "## al tener dos GPU de 12 G tengo que dividir manualmente el modelo porque el \"auto\" lo fragmenta\n",
    "# y a la hora de generar el output genera error\n",
    "device_map = {\n",
    "    'model.encoder': 'cuda:0',\n",
    "    'model.decoder': 'cuda:1',\n",
    "    'lm_head': 'cuda:1',\n",
    "    'model.shared': 'cuda:0' \n",
    "}\n",
    "\n",
    "\n",
    "tokenizer = AutoTokenizer.from_pretrained(model_name)\n",
    "model = AutoModelForSeq2SeqLM.from_pretrained(\n",
    "    model_name,\n",
    "    device_map=device_map, \n",
    "    torch_dtype=torch.bfloat16,\n",
    "    quantization_config=bnb_config,\n",
    ")"
   ]
  },
  {
   "cell_type": "code",
   "execution_count": null,
   "id": "cdbf6568-103f-4cbb-b6db-d7bcf1a88334",
   "metadata": {},
   "outputs": [],
   "source": [
    "query = \"\"\"DETECTA si el texto contiene información personal explícita, como un número de teléfono, una dirección postal completa o un número de DNI, información de carácter personal con el que puedan reconocer a la persona. Responde solo con 'SI' o 'NO'.\"\"\"\n",
    "\n",
    "def create_prompt(documento):\n",
    "    return [{\n",
    "        \"role\": \"user\",\n",
    "        \"content\": (\n",
    "            \"Eres un analista experto en mensajes breves. Tu única tarea es extraer información explícita del mensaje.\\n\"\n",
    "            \"Responde **solo** con el valor solicitado. No añadas introducciones, explicaciones, encabezados, ni texto adicional.\\n\"\n",
    "            \"No uses formato, como negritas, cursivas o cualquier otro tipo de markdown.\\n\"\n",
    "            \"Utiliza el formato específico de la pregunta (ej. 'SI'/'NO').\\n\"\n",
    "            \"Responde siempre en español.\\n\"\n",
    "            f\"Tarea: {query}\\n\"\n",
    "            f\"Texto: {documento}\"\n",
    "        )\n",
    "    }]\n",
    "\n",
    "def process_batch(batch_texts, batch_size=4):  # Ajusta el batch_size según tu memoria GPU\n",
    "    \"\"\"Procesa un batch de textos\"\"\"\n",
    "    # Crear prompts para todo el batch\n",
    "    batch_prompts = [create_prompt(texto) for texto in batch_texts]\n",
    "    \n",
    "    # Tokenizar todo el batch\n",
    "    batch_inputs = []\n",
    "    for prompt in batch_prompts:\n",
    "        tokenized = tokenizer.apply_chat_template(\n",
    "            prompt, \n",
    "            return_tensors=\"pt\", \n",
    "            return_dict=True, \n",
    "            add_generation_prompt=True,\n",
    "            padding=False  # No hacer padding aquí\n",
    "        )\n",
    "        batch_inputs.append(tokenized)\n",
    "    \n",
    "    # Extraer input_ids y attention_masks\n",
    "    input_ids_list = [inputs['input_ids'].squeeze(0) for inputs in batch_inputs]\n",
    "    attention_mask_list = [inputs['attention_mask'].squeeze(0) for inputs in batch_inputs]\n",
    "    \n",
    "    # Hacer padding manual para que todos tengan la misma longitud\n",
    "    max_length = max(len(ids) for ids in input_ids_list)\n",
    "    \n",
    "    padded_input_ids = []\n",
    "    padded_attention_masks = []\n",
    "    \n",
    "    for i, (ids, mask) in enumerate(zip(input_ids_list, attention_mask_list)):\n",
    "        padding_length = max_length - len(ids)\n",
    "        if padding_length > 0:\n",
    "            # Padding a la izquierda para modelos generativos\n",
    "            padded_ids = torch.cat([\n",
    "                torch.full((padding_length,), tokenizer.pad_token_id, dtype=ids.dtype),\n",
    "                ids\n",
    "            ])\n",
    "            padded_mask = torch.cat([\n",
    "                torch.zeros(padding_length, dtype=mask.dtype),\n",
    "                mask\n",
    "            ])\n",
    "        else:\n",
    "            padded_ids = ids\n",
    "            padded_mask = mask\n",
    "            \n",
    "        padded_input_ids.append(padded_ids)\n",
    "        padded_attention_masks.append(padded_mask)\n",
    "    \n",
    "    # Convertir a tensores\n",
    "    batch_input_ids = torch.stack(padded_input_ids).to('cuda:0')\n",
    "    batch_attention_masks = torch.stack(padded_attention_masks).to('cuda:0')\n",
    "    \n",
    "    # Generar respuestas para todo el batch\n",
    "    with torch.no_grad():\n",
    "        outputs = model.generate(\n",
    "            input_ids=batch_input_ids,\n",
    "            attention_mask=batch_attention_masks,\n",
    "            max_new_tokens=4,\n",
    "            do_sample=False,\n",
    "            pad_token_id=tokenizer.pad_token_id,\n",
    "            use_cache=False,  # No usar cache para ahorrar memoria\n",
    "        )\n",
    "    del batch_input_ids, batch_attention_masks\n",
    "    torch.cuda.empty_cache()\n",
    "    \n",
    "    # Decodificar respuestas\n",
    "    responses = []\n",
    "    for output in outputs:\n",
    "        response = tokenizer.decode(output, skip_special_tokens=True)\n",
    "        responses.append(response.strip())\n",
    "        \n",
    "    del outputs\n",
    "    torch.cuda.empty_cache()\n",
    "    \n",
    "    return responses"
   ]
  },
  {
   "cell_type": "code",
   "execution_count": null,
   "id": "7e737f25-1f64-4e9d-8eef-43ff4760e2be",
   "metadata": {},
   "outputs": [],
   "source": [
    "# Procesamiento en batches\n",
    "LOPD = []\n",
    "batch_size = 64 # Ajusta según tu memoria GPU disponible\n",
    "\n",
    "# Convertir DataFrame a lista para facilitar el batching\n",
    "tweets_list = df[\"tweets\"].tolist()\n",
    "\n",
    "# Procesar en batches\n",
    "for i in tqdm(range(0, len(tweets_list), batch_size), desc=\"Processing Batches\"):\n",
    "    batch_texts = tweets_list[i:i+batch_size]\n",
    "    batch_responses = process_batch(batch_texts, batch_size)\n",
    "    LOPD.extend(batch_responses)\n",
    "\n",
    "print(f\"Procesados {len(LOPD)} tweets\")\n"
   ]
  },
  {
   "cell_type": "code",
   "execution_count": null,
   "id": "b72088d2-ce1e-42c0-a800-e7ce41acfeb3",
   "metadata": {},
   "outputs": [],
   "source": [
    "df['proteccion_datos'] = LOPD\n",
    "df['proteccion_datos'].value_counts()\n",
    "#hay malas salidas, hay que limpiar."
   ]
  },
  {
   "cell_type": "code",
   "execution_count": null,
   "id": "28db9a1b-9e8c-46c8-91ba-174e9e9315ed",
   "metadata": {},
   "outputs": [],
   "source": [
    "#arreglar valores extraños. \n",
    "df['proteccion_datos'] = df['proteccion_datos'].str.upper().astype(str).str.strip()\n",
    "df['proteccion_datos'] = df['proteccion_datos'].str.replace('1. NO', 'NO')\n",
    "df['proteccion_datos'] = df['proteccion_datos'].str.replace('NO.', 'NO')\n",
    "df['proteccion_datos'].value_counts()"
   ]
  },
  {
   "cell_type": "code",
   "execution_count": null,
   "id": "1a0aa87f-947e-43d6-84ff-7fe13b8769a0",
   "metadata": {},
   "outputs": [],
   "source": [
    "df[df['proteccion_datos'].str.upper().str.strip() == 'SI']"
   ]
  },
  {
   "cell_type": "code",
   "execution_count": null,
   "id": "d6e64f7d-e382-4640-afec-7d2fb3ad1aba",
   "metadata": {},
   "outputs": [],
   "source": [
    "for idx , i in df['tweets'][df['proteccion_datos'].str.upper().str.strip() == 'SI'].items():\n",
    "    print(idx,'==', i)\n"
   ]
  },
  {
   "cell_type": "code",
   "execution_count": null,
   "id": "3fbf693d-2727-4a61-9dee-a687cc2c42c8",
   "metadata": {},
   "outputs": [],
   "source": [
    "df = df[df['proteccion_datos'] == 'NO']\n",
    "df = df[['User', 'tweets', 'search','fecha_captura']]\n",
    "df"
   ]
  },
  {
   "cell_type": "code",
   "execution_count": null,
   "id": "f59ad8b1-9368-4b7d-a703-1a303f4add50",
   "metadata": {},
   "outputs": [],
   "source": [
    "#Se puede observar que hay bastantes falsos positivos. Sin embargo, son mensajes que poco o nada aportan al analisis, \n",
    "#muchos de ellos hablan sobre que se les ha pedido el DNI.  Habría que refinar más el prompt, pero vale como criba inicial. "
   ]
  },
  {
   "cell_type": "code",
   "execution_count": null,
   "id": "b48fb3fd-87f7-4d47-ad9e-c4a1c71f54e3",
   "metadata": {},
   "outputs": [],
   "source": [
    "df.to_parquet( './data/Silver/Cleaned_data_LOPD.parquet' ,index=False)"
   ]
  }
 ],
 "metadata": {
  "kernelspec": {
   "display_name": "Python 3 (ipykernel)",
   "language": "python",
   "name": "python3"
  },
  "language_info": {
   "codemirror_mode": {
    "name": "ipython",
    "version": 3
   },
   "file_extension": ".py",
   "mimetype": "text/x-python",
   "name": "python",
   "nbconvert_exporter": "python",
   "pygments_lexer": "ipython3",
   "version": "3.10.18"
  }
 },
 "nbformat": 4,
 "nbformat_minor": 5
}
