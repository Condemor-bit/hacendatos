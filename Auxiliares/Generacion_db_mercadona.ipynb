{
 "cells": [
  {
   "cell_type": "code",
   "execution_count": null,
   "id": "1d0dbb8e-f353-4bde-a3a1-6df7dc94f36c",
   "metadata": {},
   "outputs": [],
   "source": [
    "import time\n",
    "import requests\n",
    "import json\n",
    "\n",
    "# --- sesión con headers ---\n",
    "session = requests.Session()\n",
    "\n",
    "session.headers.update({\n",
    "    \"User-Agent\": \"mercadona\",\n",
    "    \"Accept\": \"application/json\"\n",
    "})\n",
    "\n",
    "\n",
    "url = f\"https://tienda.mercadona.es/api/categories/\"\n",
    "r = session.get(url)\n",
    "b=r.json()\n",
    "\n",
    "time.sleep(0.1)\n",
    "\n",
    "data = []  # lista de categorías\n",
    "for categoria in b['results']:\n",
    "    cat_dict = {\n",
    "        \"name\": categoria['name'],\n",
    "        \"subcategories\": []\n",
    "    }\n",
    "    for subcat in categoria['categories']:\n",
    "        subcat_dict = {\n",
    "            \"name\": subcat['name'],\n",
    "            \"id\": subcat['id'],\n",
    "            \"products\": []\n",
    "        }\n",
    "\n",
    "        # Aquí haces la petición para sacar productos\n",
    "        url = f\"https://tienda.mercadona.es/api/categories/{subcat['id']}/\"\n",
    "        response = session.get(url)\n",
    "        if response.status_code == 200:\n",
    "            try:\n",
    "                r2 = response.json()\n",
    "                if 'categories' in r2:\n",
    "                    for w in r2['categories']:\n",
    "                        if 'products' in w:\n",
    "                            for prod in w['products']:\n",
    "                                subcat_dict['products'].append(prod['display_name'])\n",
    "\n",
    "                time.sleep(0.1)                \n",
    "            except ValueError:\n",
    "                pass\n",
    "  \n",
    "\n",
    "        cat_dict['subcategories'].append(subcat_dict)\n",
    "\n",
    "        time.sleep(1)\n",
    "\n",
    "    data.append(cat_dict)"
   ]
  },
  {
   "cell_type": "code",
   "execution_count": null,
   "id": "05739fed-448e-4622-bf28-3597421c128c",
   "metadata": {},
   "outputs": [],
   "source": [
    "data"
   ]
  },
  {
   "cell_type": "code",
   "execution_count": null,
   "id": "ff70eb5b-9899-4222-83ed-b5ded0366272",
   "metadata": {},
   "outputs": [],
   "source": [
    "#guardado\n",
    "with open('./data/Bronze/mercadona_data.json', 'w', encoding='utf-8') as f:\n",
    "    json.dump(data, f, ensure_ascii=False, indent=4)\n"
   ]
  }
 ],
 "metadata": {
  "kernelspec": {
   "display_name": "Python 3 (ipykernel)",
   "language": "python",
   "name": "python3"
  },
  "language_info": {
   "codemirror_mode": {
    "name": "ipython",
    "version": 3
   },
   "file_extension": ".py",
   "mimetype": "text/x-python",
   "name": "python",
   "nbconvert_exporter": "python",
   "pygments_lexer": "ipython3",
   "version": "3.10.18"
  }
 },
 "nbformat": 4,
 "nbformat_minor": 5
}
